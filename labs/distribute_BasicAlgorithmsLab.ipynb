{
 "cells": [
  {
   "cell_type": "markdown",
   "metadata": {},
   "source": [
    "## Basic Algorithms Lab: Fibonacci and Insertion Sort\n",
    "\n",
    "\n",
    "Another form of recursion is tree recursion. Consider computing a fibonacci sequence, in which each number is the sum of the previous two, with the first two taken to be 0 and 1."
   ]
  },
  {
   "cell_type": "markdown",
   "metadata": {},
   "source": [
    "### Recursive Fibonacci. \n",
    "\n",
    "\n",
    "We write Fibonacci recursively with the first two numbers as base cases. (as in the last lab)\n",
    "\n",
    "![](https://mitpress.mit.edu/sicp/full-text/book/ch1-Z-G-13.gif)\n",
    "\n",
    "(from SICP)\n",
    "\n",
    "Signature: `def fib_recursive(n)`"
   ]
  },
  {
   "cell_type": "code",
   "execution_count": null,
   "metadata": {
    "collapsed": false
   },
   "outputs": [],
   "source": [
    "def fib_recursive(n):\n",
    "    if n == 1:\n",
    "        return 0\n",
    "    if n == 2:\n",
    "        return 1\n",
    "    return fib_recursive(n-1) + fib_recursive(n-2)\n",
    "\n",
    "for i in [1, 2, 7, 13, 29, 33]:\n",
    "    print(fib_recursive(i))"
   ]
  },
  {
   "cell_type": "markdown",
   "metadata": {},
   "source": [
    "### Q1. \n",
    "\n",
    "What are the space and time complexities of this implementation? Is this implementation tail-recursive?"
   ]
  },
  {
   "cell_type": "markdown",
   "metadata": {},
   "source": [
    "*your answer here*\n",
    "\n",
    "** Time complexity ** \n",
    "\n",
    "We call $T(n)$ the time complexity for the recursive fibonacci of the integer $n$. From the code we notice that\n",
    "$$ T(n) \\approx T(n-1) + T(n-2). $$\n",
    "\n",
    "Assuming that $T(0)=T(1)=1$ we find that the time complexity is $T(n) = O(2^n)$\n",
    "\n",
    "** Space complexity **\n",
    "\n",
    "For the space complexity we analyze the maximum depth of the tree drawn in Figure 1. To find fib_recursive(n) we need to stack in the memory the number fib_recursive(1) to fib_recursive(n-1). Therefore the space complexity is $S(n) =(n).$"
   ]
  },
  {
   "cell_type": "markdown",
   "metadata": {},
   "source": [
    "### Dynamic Programming and Iteration\n",
    "\n",
    "From Skiena\n",
    ">..**dynamic programming**, which typically removes one element from the problem, solves the smaller problem, and then uses the solution to this smaller problem to add back the element in the proper way. **Divide-and-conquer** instead splits the problem in (say) halves, solves each half, then stitches the pieces back together to form a full solution.\n",
    "\n",
    ">Dynamic programming is a technique for efficiently implementing a recursive algorithm by storing partial results. The trick is seeing whether the naive recursive algorithm computes the same subproblems over and over and over again. If so, storing the answer for each subproblems in a table to look up instead of recompute can lead to an efficient algorithm. Start with a recursive algorithm or definition. Only once we have a correct recursive algorithm do we worry about speeding it up by using a results matrix. Dynamic programming is generally the right method for optimization problems on combinatorial objects that have an inherent left to right order among components. nents. Left-to-right objects includes: character strings, rooted trees, polygons, and integer sequences."
   ]
  },
  {
   "cell_type": "markdown",
   "metadata": {},
   "source": [
    "### Q2.\n",
    "\n",
    "Here is an implementation of Fibonacci using dynamic programming: they key is to notice that the recurrence we used can be put into an iterative form and just stored in an everr increasing array. What is the space and time complexity here?"
   ]
  },
  {
   "cell_type": "code",
   "execution_count": null,
   "metadata": {
    "collapsed": true
   },
   "outputs": [],
   "source": [
    "def fib_iterative(n):\n",
    "    fibs=[]\n",
    "    fibs.append(0)\n",
    "    fibs.append(1)\n",
    "    for i in range(2, n):\n",
    "         fibs.append(fibs[i-1]+fibs[i-2])\n",
    "    return fibs[n-1]"
   ]
  },
  {
   "cell_type": "code",
   "execution_count": null,
   "metadata": {
    "collapsed": false
   },
   "outputs": [],
   "source": [
    "for i in [1, 2, 7,13,29,33]:\n",
    "    print(fib_iterative(i))"
   ]
  },
  {
   "cell_type": "markdown",
   "metadata": {},
   "source": [
    "*your answer here*\n",
    "\n",
    "** Time complexity **\n",
    "\n",
    "To evaluate fib_iterative(n) we create a list of size $n$ and perform $O(n)$ operation. Therefore the time complexity in this case is $O(n)$.\n",
    "\n",
    "** Space complexity **\n",
    "In this case we only create one frame therefore the space complexity is 1.\n"
   ]
  },
  {
   "cell_type": "markdown",
   "metadata": {},
   "source": [
    "### Recursive Fibonacci with cacheing"
   ]
  },
  {
   "cell_type": "code",
   "execution_count": 56,
   "metadata": {
    "collapsed": true
   },
   "outputs": [],
   "source": [
    "def cache(f):\n",
    "    \"\"\"a single argument function whose values may be cached\"\"\"\n",
    "    cache = {}\n",
    "    def memoized_func(x):\n",
    "        if x not in cache:\n",
    "            cache[x] = f(x)\n",
    "        return cache[x]\n",
    "    memoized_func.__name__ = f.__name__\n",
    "    return memoized_func\n",
    "    "
   ]
  },
  {
   "cell_type": "code",
   "execution_count": 108,
   "metadata": {
    "collapsed": false
   },
   "outputs": [],
   "source": [
    "def call_counter(count_dictionary):\n",
    "    def call_counter_decorator(func):\n",
    "        def inner(*args, **kwargs):\n",
    "            n = func.__name__\n",
    "            #your code here\n",
    "            if n not in count_dictionary:\n",
    "                count_dictionary[n] = 1\n",
    "            else:\n",
    "                count_dictionary[n] += 1           \n",
    "            output = func(*args)\n",
    "            return output\n",
    "        return inner\n",
    "    return call_counter_decorator"
   ]
  },
  {
   "cell_type": "markdown",
   "metadata": {},
   "source": [
    "### Q3. \n",
    "\n",
    "Use `cache` and `call_counter` as a decorator on `fib_recursive` and print the fibonacci numbers for 7,13,29, 33 as per last time. What order should these decorators be called to make sure `call_counter` gets the actual number of calls to `fib_recursive`?"
   ]
  },
  {
   "cell_type": "code",
   "execution_count": 143,
   "metadata": {
    "collapsed": false
   },
   "outputs": [
    {
     "name": "stdout",
     "output_type": "stream",
     "text": [
      "-------\n",
      "Without caching\n",
      "7 8 25\n",
      "13 144 490\n",
      "29 317811 1028947\n",
      "-------\n",
      "With caching\n",
      "7 8 11\n",
      "13 144 24\n",
      "29 317811 57\n",
      "-------\n"
     ]
    }
   ],
   "source": [
    "#your code here\n",
    "\n",
    "# initialization of the dictionary\n",
    "storage = {}\n",
    "\n",
    "# Here we present the counting wihtout caching\n",
    "@call_counter(storage)\n",
    "# @cache\n",
    "def fib_recursive(n):\n",
    "    if n == 1:\n",
    "        return 0\n",
    "    if n == 2:\n",
    "        return 1\n",
    "    return fib_recursive(n-1) + fib_recursive(n-2)\n",
    "\n",
    "print('-------')\n",
    "print('Without caching')\n",
    "for i in [7, 13, 29]:\n",
    "    print(i,fib_recursive(i), storage['fib_recursive'])\n",
    "# print(fib_recursive(3), storage)\n",
    "# print(fib_recursive(4), storage)\n",
    "# print(fib_recursive(5), storage)\n",
    "print('-------')\n",
    "\n",
    "# initialization of the dictionary\n",
    "storage = {}\n",
    "\n",
    "# Here we present the counting with caching\n",
    "\n",
    "@call_counter(storage)\n",
    "@cache\n",
    "def fib_recursive(n):\n",
    "    if n == 1:\n",
    "        return 0\n",
    "    if n == 2:\n",
    "        return 1\n",
    "    return fib_recursive(n-1) + fib_recursive(n-2)\n",
    "\n",
    "print('With caching')\n",
    "for i in [7, 13, 29]:\n",
    "    print(i,fib_recursive(i), storage['fib_recursive'])\n",
    "# print(fib_recursive(3), storage)\n",
    "# print(fib_recursive(4), storage)\n",
    "# print(fib_recursive(5), storage)\n",
    "print('-------')\n",
    "\n"
   ]
  },
  {
   "cell_type": "markdown",
   "metadata": {},
   "source": [
    "### Q4.\n",
    "\n",
    "What is the time and space complexity of the the memoized Fibonacci? HINT: assume evaluation happens left to right on sub-expressions, so that `fib_recursive(n-1)` side of the tree is evaluated first, and thus the tree is evaluated depth first, from left to right. What kind of pruning happens in the tree?"
   ]
  },
  {
   "cell_type": "markdown",
   "metadata": {},
   "source": [
    "*your answer here*\n",
    "\n",
    "** Time complexity **\n",
    "\n",
    "Looking at Figure 1 we see that for the recursive Fibonacci we evaluate twice fib3 and three times fib2. When caching the subresults we don't have to recompute fib2 and fib3 on the right part of the tree. Therefore the only operations we have to do are the operations on the extreme left part of the tree. For fib4 we only have to do fib3+fib2 and fib2+fib1 and fib1+fib0. The time complexity of the algorith becomes $T(n) = O(n).$\n",
    "\n",
    "** Space complexity **\n",
    "\n",
    "The depth of the tree (in which we stack the outputs of fib_recursive) is still of order $n$. Therefore $S(n) = O(n).$\n"
   ]
  },
  {
   "cell_type": "markdown",
   "metadata": {},
   "source": [
    "### Q5.\n",
    "\n",
    "Do you really need to store the entire array in the dynamic programming implementation? Isnt it enough to have only saved the previous two Fibonacci numbers? Implement such an algorithm in `fib_iterative2(n)`. What is its space and time complexity?"
   ]
  },
  {
   "cell_type": "code",
   "execution_count": 149,
   "metadata": {
    "collapsed": false
   },
   "outputs": [
    {
     "name": "stdout",
     "output_type": "stream",
     "text": [
      "7 8\n",
      "13 144\n",
      "29 317811\n"
     ]
    }
   ],
   "source": [
    "#your code here\n",
    "def fib_iterative2(n):\n",
    "    fibs=[]\n",
    "    fibs.append(0)\n",
    "    fibs.append(1)\n",
    "    for i in range(2, n):\n",
    "        fibs_new = fibs[0] + fibs[1]\n",
    "        fibs[0] = fibs[1]\n",
    "        fibs[1] = fibs_new      \n",
    "    return fibs[1]\n",
    "\n",
    "for i in [7, 13, 29]:\n",
    "    print(i,fib_iterative2(i))"
   ]
  },
  {
   "cell_type": "code",
   "execution_count": null,
   "metadata": {
    "collapsed": false
   },
   "outputs": [],
   "source": [
    "#your code here\n"
   ]
  },
  {
   "cell_type": "markdown",
   "metadata": {},
   "source": [
    "*your answer here*\n",
    "\n",
    "** Time complexity **\n",
    "\n",
    "The time complexity is the same as before for the iterative method: $T(n) = O(n).$\n",
    "\n",
    "** Space complexity **\n",
    "\n",
    "However since the depth of the tree is always 2. We keep 2 numbers to find the next one. Therefore $S(n) =2 .$"
   ]
  },
  {
   "cell_type": "markdown",
   "metadata": {},
   "source": [
    "### Q6.\n",
    "\n",
    "Write an algorithm for insertion sort. \n",
    "\n",
    "![](https://upload.wikimedia.org/wikipedia/commons/0/0f/Insertion-sort-example-300px.gif)\n",
    "\n",
    "(from wikipedia)\n",
    "\n",
    "The algorithm is also illustrated here: http://cs.armstrong.edu/liang/animation/web/InsertionSort.html and may be described thus\n",
    "\n",
    "insertion sort is a method for sorting that starts with a single element (thus forming a trivially sorted list) and then incrementally inserts the remaining elements so that the list stays sorted.\n",
    "\n",
    "Talk about the best, worst and average complexity of insertion sort. Use the same list A from the lecture\n",
    "`A=[5,2,1,3,8,6,9]`"
   ]
  },
  {
   "cell_type": "code",
   "execution_count": 169,
   "metadata": {
    "collapsed": false
   },
   "outputs": [
    {
     "name": "stdout",
     "output_type": "stream",
     "text": [
      "<<< [5, 2, 1, 3, 8, 6, 9]\n",
      "<<< [2, 5, 1, 3, 8, 6, 9]\n",
      "<<< [2, 5, 1, 3, 8, 6, 9]\n",
      "<<< [1, 2, 5, 3, 8, 6, 9]\n",
      "<<< [1, 2, 5, 3, 8, 6, 9]\n",
      "<<< [1, 2, 3, 5, 8, 6, 9]\n",
      "<<< [1, 2, 3, 5, 8, 6, 9]\n",
      "<<< [1, 2, 3, 5, 8, 6, 9]\n",
      "<<< [1, 2, 3, 5, 8, 6, 9]\n",
      "<<< [1, 2, 3, 5, 6, 8, 9]\n",
      "<<< [1, 2, 3, 5, 6, 8, 9]\n",
      "<<< [1, 2, 3, 5, 6, 8, 9]\n"
     ]
    }
   ],
   "source": [
    "#your code here\n",
    "A = [5,2,1,3,8,6,9]\n",
    "def insertion_sort(A):\n",
    "    for i in range(1,len(A)):\n",
    "        print(\"<<<\",A)\n",
    "        j = i\n",
    "        while j>0 and A[j-1] > A[j]:\n",
    "            # swap the two elements\n",
    "            old = A[j]\n",
    "            A[j] = A[j-1]\n",
    "            A[j-1] = old\n",
    "            j -= 1\n",
    "        print(\"<<<\",A)\n",
    "            \n",
    "insertion_sort(A)\n",
    "    "
   ]
  },
  {
   "cell_type": "code",
   "execution_count": null,
   "metadata": {
    "collapsed": false
   },
   "outputs": [],
   "source": [
    "#your code here\n"
   ]
  },
  {
   "cell_type": "markdown",
   "metadata": {
    "collapsed": true
   },
   "source": [
    "*your answer here*\n",
    "\n",
    "For **the best case** the time complexity of the insertion sort algorithm is $O(n)$. We loop over the array and always compare with the last element of the sorted subarray (the value next to it, on its left).\n",
    "\n",
    "**The worst case ** is when the inital array is sorted in reverse order. In this case the complexity of the implemented algorithm is $O(n^2)$. We loop in one direction and then we have to loop in the other direction all the way to the end.\n",
    "\n",
    "Similarly to the selection sort algorithm, in ** the average case ** the outer loop goes around $n$ times and the inner loop $n-i-1$ times. Therefore the complexity is $O(n^2)$ in this case too.\n",
    "\n",
    "\n"
   ]
  },
  {
   "cell_type": "code",
   "execution_count": null,
   "metadata": {
    "collapsed": true
   },
   "outputs": [],
   "source": []
  }
 ],
 "metadata": {
  "kernelspec": {
   "display_name": "Python 3",
   "language": "python",
   "name": "python3"
  },
  "language_info": {
   "codemirror_mode": {
    "name": "ipython",
    "version": 3
   },
   "file_extension": ".py",
   "mimetype": "text/x-python",
   "name": "python",
   "nbconvert_exporter": "python",
   "pygments_lexer": "ipython3",
   "version": "3.5.1"
  }
 },
 "nbformat": 4,
 "nbformat_minor": 0
}
